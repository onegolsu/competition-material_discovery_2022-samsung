{
 "cells": [
  {
   "cell_type": "code",
   "execution_count": null,
   "metadata": {},
   "outputs": [],
   "source": [
    "import os\n",
    "import re\n",
    "import numpy as np\n",
    "import pandas as pd"
   ]
  },
  {
   "cell_type": "code",
   "execution_count": null,
   "metadata": {},
   "outputs": [],
   "source": [
    "# path_settings\n",
    "try:\n",
    "    from google.colab import drive\n",
    "    base_dir ='content/'\n",
    "    data_path='/'.join([base_dir,'data'])\n",
    "    \n",
    "except ModuleNotFoundError:\n",
    "    base_dir = '/Users/jack/Desktop/things/projects/samsung_material_discovery'\n",
    "    data_path='/'.join([base_dir,\"data\"])"
   ]
  },
  {
   "cell_type": "code",
   "execution_count": null,
   "metadata": {},
   "outputs": [],
   "source": [
    "# load csv data to dataframe\n",
    "df_train=pd.read_csv(\"/\".join([data_path,\"train_set.ReorgE.csv\"]),index_col=0)\n",
    "df_test=pd.read_csv(\"/\".join([data_path,\"test_set.csv\"]), index_col=0)"
   ]
  },
  {
   "cell_type": "code",
   "execution_count": null,
   "metadata": {},
   "outputs": [],
   "source": [
    "# make preprocessed_data folder\n",
    "save_path = '/'.join([base_dir,\"preprocessed_data\"])\n",
    "\n",
    "if not os.path.isdir(save_path):\n",
    "    os.mkdir(save_path)\n",
    "    os.mkdir('/'.join([save_path,\"train_mol\"]))\n",
    "    os.mkdir('/'.join([save_path,\"test_mol\"]))\n",
    "\n",
    "# slice smiles data and target\n",
    "df_train.iloc[:,-2:].to_csv(\"/\".join([base_dir,'preprocessed_data/train_target.csv']))\n",
    "df_train.iloc[:,:1].to_csv(\"/\".join([base_dir,'preprocessed_data/train_smile.csv']))\n",
    "df_test.iloc[:,:1].to_csv(\"/\".join([base_dir,'preprocessed_data/test_smile.csv']))"
   ]
  },
  {
   "cell_type": "markdown",
   "metadata": {},
   "source": [
    "### mol file preprocessing "
   ]
  },
  {
   "cell_type": "code",
   "execution_count": null,
   "metadata": {},
   "outputs": [],
   "source": [
    "def read_mol(path):\n",
    "    mol_data = open(file=path,mode='r').read().split('\\n')\n",
    "    return mol_data\n",
    "\n",
    "def get_count(mol_data):\n",
    "    result= re.sub(' +', ' ', mol_data[3].lstrip()).split(' ')[:2]\n",
    "    return result\n",
    "\n",
    "def get_location(mol_data):\n",
    "    li_location = list()\n",
    "    for _ in mol_data:\n",
    "        _ = _.lstrip()\n",
    "        _=re.sub(' +',' ',_).split(' ')\n",
    "        if len(_) == 16:\n",
    "            li_location.append(_[:4])\n",
    "    return li_location\n",
    "\n",
    "def get_bond(mol_data):\n",
    "    li_bond = list()\n",
    "    for _ in mol_data:\n",
    "        _ = _.lstrip()\n",
    "        _=re.sub(' +',' ',_).split(' ')\n",
    "        if len(_) == 4:\n",
    "            li_bond.append(_[:3])\n",
    "    return li_bond\n",
    "\n",
    "def mol2data(file_path):\n",
    "    mol_data=read_mol(file_path)\n",
    "    \n",
    "    count=np.array(get_count(mol_data)).reshape(1,2)\n",
    "    location=np.array(get_location(mol_data))\n",
    "    bond=np.array(get_bond(mol_data))\n",
    "    \n",
    "    return count, location, bond\n",
    "\n",
    "def save_data(data,save_path):\n",
    "    np.save(save_path,data)\n",
    "    return None"
   ]
  },
  {
   "cell_type": "code",
   "execution_count": null,
   "metadata": {},
   "outputs": [
    {
     "name": "stdout",
     "output_type": "stream",
     "text": [
      "/Users/jack/Desktop/things/projects/samsung_material_discovery/preprocessed_data\n",
      "/Users/jack/Desktop/things/projects/samsung_material_discovery/data\n"
     ]
    }
   ],
   "source": [
    "print(save_path)\n",
    "print(data_path)"
   ]
  },
  {
   "cell_type": "code",
   "execution_count": null,
   "metadata": {},
   "outputs": [],
   "source": [
    "# test_mol_file -> 3_npy (count,location,bond)\n",
    "for file_name in df_test.index:\n",
    "    for status in ['ex','g']:\n",
    "        file_path=\"/\".join([data_path,'mol_files/test_set/{0}_{1}.mol'.format(file_name,status)])\n",
    "        count, location, bond = mol2data(file_path)\n",
    "\n",
    "        path_count = \"/\".join([save_path,'test_mol/{0}_count'.format(file_name)])\n",
    "        path_location = \"/\".join([save_path,'test_mol/{0}_{1}_location'.format(file_name,status)])\n",
    "        path_bond = \"/\".join([save_path,'test_mol/{0}_{1}_bond'.format(file_name,status)])\n",
    "\n",
    "        np.save(path_count,count)\n",
    "        np.save(path_location,location)\n",
    "        np.save(path_bond,bond)\n",
    "        \n",
    "\n",
    "# train_mol_file -> 3_npy (count,location,bond)\n",
    "for file_name in df_train.index:\n",
    "    for status in ['ex','g']:\n",
    "        file_path=\"/\".join([data_path,'mol_files/train_set/{0}_{1}.mol'.format(file_name,status)])\n",
    "        count, location, bond = mol2data(file_path)\n",
    "\n",
    "        path_count = \"/\".join([save_path,'train_mol/{0}_count'.format(file_name)])\n",
    "        path_location = \"/\".join([save_path,'train_mol/{0}_{1}_location'.format(file_name,status)])\n",
    "        path_bond = \"/\".join([save_path,'train_mol/{0}_{1}_bond'.format(file_name,status)])\n",
    "\n",
    "        np.save(path_count,count)\n",
    "        np.save(path_location,location)\n",
    "        np.save(path_bond,bond)"
   ]
  }
 ],
 "metadata": {
  "language_info": {
   "name": "python"
  }
 },
 "nbformat": 4,
 "nbformat_minor": 2
}
