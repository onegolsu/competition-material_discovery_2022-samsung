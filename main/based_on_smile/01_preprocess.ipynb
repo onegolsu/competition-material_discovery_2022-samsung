{
 "cells": [
  {
   "cell_type": "code",
   "execution_count": null,
   "metadata": {},
   "outputs": [],
   "source": [
    "import os\n",
    "import numpy as np\n",
    "import pandas as pd"
   ]
  },
  {
   "cell_type": "code",
   "execution_count": null,
   "metadata": {},
   "outputs": [],
   "source": [
    "# path_settings\n",
    "try:\n",
    "    from google.colab import drive\n",
    "    base_dir ='content/'\n",
    "    data_path='/'.join([base_dir,'data'])\n",
    "    \n",
    "except ModuleNotFoundError:\n",
    "    base_dir = '/Users/jack/Desktop/things/projects/samsung_material_discovery'\n",
    "    data_path='/'.join([base_dir,\"data\"])"
   ]
  },
  {
   "cell_type": "code",
   "execution_count": null,
   "metadata": {},
   "outputs": [],
   "source": [
    "df_train=pd.read_csv(\"/\".join([data_path,\"train_set.ReorgE.csv\"]),index_col=0)\n",
    "df_test=pd.read_csv(\"/\".join([data_path,\"test_set.csv\"]), index_col=0)"
   ]
  },
  {
   "cell_type": "code",
   "execution_count": null,
   "metadata": {},
   "outputs": [],
   "source": []
  },
  {
   "cell_type": "code",
   "execution_count": null,
   "metadata": {},
   "outputs": [],
   "source": [
    "from rdkit import Chem\n",
    "from rdkit.Chem import AllChem\n",
    "from rdkit import DataStructs\n",
    "from rdkit.Chem import Draw\n",
    "from rdkit.Chem.Draw import SimilarityMaps\n",
    "from rdkit import Chem, DataStructs\n",
    "from rdkit.Chem import MACCSkeys\n",
    "\n",
    "import numpy as np\n",
    "import pandas as pd"
   ]
  },
  {
   "cell_type": "code",
   "execution_count": null,
   "metadata": {},
   "outputs": [],
   "source": [
    "import math\n",
    "train_fps = []#train fingerprints\n",
    "train_y_ex = [] #train y(label)\n",
    "train_y_g = []\n",
    "ffpp=\"pattern\"\n",
    "\n",
    "for index, row in df_train.iterrows() : \n",
    "  try : \n",
    "    mol = Chem.MolFromSmiles(row['SMILES'])\n",
    "    if ffpp == 'maccs' :    \n",
    "        fp = MACCSkeys.GenMACCSKeys(mol)\n",
    "    elif ffpp == 'morgan' : \n",
    "        fp = Chem.AllChem.GetMorganFingerprintAsBitVect(mol, 4)\n",
    "    elif ffpp == 'rdkit' : \n",
    "        fp = Chem.RDKFingerprint(mol)\n",
    "    elif ffpp == 'pattern' : \n",
    "        fp = Chem.rdmolops.PatternFingerprint(mol)\n",
    "    elif ffpp == 'layerd' : \n",
    "        fp = Chem.rdmolops.LayeredFingerprint(mol)\n",
    "\n",
    "    train_fps.append(fp)\n",
    "    train_y_ex.append(row['Reorg_ex'])\n",
    "    train_y_g.append(row['Reorg_g'])\n",
    "  except : \n",
    "    pass\n",
    "\n",
    "np_train_fps = []\n",
    "for fp in train_fps:\n",
    "  arr = np.zeros((0,))\n",
    "  DataStructs.ConvertToNumpyArray(fp, arr)\n",
    "  np_train_fps.append(arr)\n",
    "\n",
    "np_train_fps_array = np.array(np_train_fps)"
   ]
  },
  {
   "cell_type": "code",
   "execution_count": null,
   "metadata": {},
   "outputs": [
    {
     "name": "stdout",
     "output_type": "stream",
     "text": [
      "(18157, 2048)\n",
      "18157\n"
     ]
    }
   ],
   "source": [
    "print(np_train_fps_array.shape)\n",
    "print(len(train_y_ex))\n",
    "np.save(\"/\".join([base_dir,'preprocessed_data/train_smile_arr']),np_train_fps_array)"
   ]
  },
  {
   "cell_type": "code",
   "execution_count": null,
   "metadata": {},
   "outputs": [],
   "source": [
    "test_fps = []#test fingerprints\n",
    "ffpp=\"pattern\"\n",
    "\n",
    "for index, row in df_test.iterrows() : \n",
    "  try : \n",
    "    mol = Chem.MolFromSmiles(row['SMILES'])\n",
    "    if ffpp == 'maccs' :    \n",
    "        fp = MACCSkeys.GenMACCSKeys(mol)\n",
    "    elif ffpp == 'morgan' : \n",
    "        fp = Chem.AllChem.GetMorganFingerprintAsBitVect(mol, 4)\n",
    "    elif ffpp == 'rdkit' : \n",
    "        fp = Chem.RDKFingerprint(mol)\n",
    "    elif ffpp == 'pattern' : \n",
    "        fp = Chem.rdmolops.PatternFingerprint(mol)\n",
    "    elif ffpp == 'layerd' : \n",
    "        fp = Chem.rdmolops.LayeredFingerprint(mol)\n",
    "\n",
    "    test_fps.append(fp)\n",
    "  except : \n",
    "    pass\n",
    "\n",
    "np_test_fps = []\n",
    "for fp in test_fps:\n",
    "  arr = np.zeros((0,))\n",
    "  DataStructs.ConvertToNumpyArray(fp, arr)\n",
    "  np_test_fps.append(arr)\n",
    "\n",
    "np_test_fps_array = np.array(np_test_fps)"
   ]
  },
  {
   "cell_type": "code",
   "execution_count": null,
   "metadata": {},
   "outputs": [
    {
     "name": "stdout",
     "output_type": "stream",
     "text": [
      "(457, 2048)\n"
     ]
    }
   ],
   "source": [
    "print(np_test_fps_array.shape)\n",
    "np.save(\"/\".join([base_dir,'preprocessed_data/test_smile_arr']),np_test_fps_array)"
   ]
  }
 ],
 "metadata": {
  "language_info": {
   "name": "python"
  }
 },
 "nbformat": 4,
 "nbformat_minor": 2
}
